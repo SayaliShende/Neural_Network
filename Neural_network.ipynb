{
 "cells": [
  {
   "cell_type": "code",
   "execution_count": 1,
   "id": "0be47acb",
   "metadata": {},
   "outputs": [],
   "source": [
    "### Assignment 5: Neural Network"
   ]
  },
  {
   "cell_type": "code",
   "execution_count": 2,
   "id": "16862c74",
   "metadata": {},
   "outputs": [],
   "source": [
    "# Libraries\n",
    "\n",
    "import pandas as pd\n",
    "import numpy as np\n",
    "import seaborn as sns\n",
    "import matplotlib.pyplot as plt\n",
    "import statsmodels.api as sm\n",
    "import time\n",
    "\n",
    "from sklearn.preprocessing import StandardScaler\n",
    "from sklearn.preprocessing import Normalizer\n",
    "from sklearn.model_selection import train_test_split\n",
    "from sklearn.model_selection import cross_val_score\n",
    "from sklearn.metrics import precision_recall_fscore_support\n",
    "from sklearn.metrics import roc_curve, roc_auc_score\n",
    "from sklearn.metrics import precision_recall_curve, auc\n",
    "from sklearn.preprocessing import LabelEncoder\n",
    "from sklearn.neural_network import MLPClassifier\n",
    "from sklearn.neighbors import KNeighborsClassifier\n",
    "from sklearn.metrics import accuracy_score, precision_score, classification_report\n",
    "from sklearn.metrics import confusion_matrix\n",
    "\n",
    "\n",
    "import warnings\n",
    "warnings.filterwarnings('ignore')\n",
    "warnings.simplefilter('ignore')"
   ]
  },
  {
   "cell_type": "code",
   "execution_count": 3,
   "id": "f025f4aa",
   "metadata": {},
   "outputs": [
    {
     "data": {
      "text/html": [
       "<div>\n",
       "<style scoped>\n",
       "    .dataframe tbody tr th:only-of-type {\n",
       "        vertical-align: middle;\n",
       "    }\n",
       "\n",
       "    .dataframe tbody tr th {\n",
       "        vertical-align: top;\n",
       "    }\n",
       "\n",
       "    .dataframe thead th {\n",
       "        text-align: right;\n",
       "    }\n",
       "</style>\n",
       "<table border=\"1\" class=\"dataframe\">\n",
       "  <thead>\n",
       "    <tr style=\"text-align: right;\">\n",
       "      <th></th>\n",
       "      <th>label</th>\n",
       "      <th>pixel43</th>\n",
       "      <th>pixel44</th>\n",
       "      <th>pixel92</th>\n",
       "      <th>pixel124</th>\n",
       "      <th>pixel125</th>\n",
       "      <th>pixel126</th>\n",
       "      <th>pixel127</th>\n",
       "      <th>pixel128</th>\n",
       "      <th>pixel129</th>\n",
       "      <th>...</th>\n",
       "      <th>pixel329</th>\n",
       "      <th>pixel351</th>\n",
       "      <th>pixel410</th>\n",
       "      <th>pixel411</th>\n",
       "      <th>pixel412</th>\n",
       "      <th>pixel413</th>\n",
       "      <th>pixel414</th>\n",
       "      <th>pixel415</th>\n",
       "      <th>pixel416</th>\n",
       "      <th>pixel417</th>\n",
       "    </tr>\n",
       "  </thead>\n",
       "  <tbody>\n",
       "    <tr>\n",
       "      <th>0</th>\n",
       "      <td>1</td>\n",
       "      <td>0</td>\n",
       "      <td>0</td>\n",
       "      <td>0</td>\n",
       "      <td>0</td>\n",
       "      <td>0</td>\n",
       "      <td>0</td>\n",
       "      <td>0</td>\n",
       "      <td>0</td>\n",
       "      <td>0</td>\n",
       "      <td>...</td>\n",
       "      <td>0</td>\n",
       "      <td>254</td>\n",
       "      <td>0</td>\n",
       "      <td>0</td>\n",
       "      <td>0</td>\n",
       "      <td>0</td>\n",
       "      <td>0</td>\n",
       "      <td>0</td>\n",
       "      <td>0</td>\n",
       "      <td>0</td>\n",
       "    </tr>\n",
       "    <tr>\n",
       "      <th>1</th>\n",
       "      <td>0</td>\n",
       "      <td>0</td>\n",
       "      <td>0</td>\n",
       "      <td>0</td>\n",
       "      <td>137</td>\n",
       "      <td>137</td>\n",
       "      <td>192</td>\n",
       "      <td>86</td>\n",
       "      <td>72</td>\n",
       "      <td>1</td>\n",
       "      <td>...</td>\n",
       "      <td>254</td>\n",
       "      <td>0</td>\n",
       "      <td>0</td>\n",
       "      <td>75</td>\n",
       "      <td>254</td>\n",
       "      <td>254</td>\n",
       "      <td>254</td>\n",
       "      <td>17</td>\n",
       "      <td>0</td>\n",
       "      <td>0</td>\n",
       "    </tr>\n",
       "    <tr>\n",
       "      <th>2</th>\n",
       "      <td>1</td>\n",
       "      <td>0</td>\n",
       "      <td>0</td>\n",
       "      <td>0</td>\n",
       "      <td>3</td>\n",
       "      <td>141</td>\n",
       "      <td>139</td>\n",
       "      <td>3</td>\n",
       "      <td>0</td>\n",
       "      <td>0</td>\n",
       "      <td>...</td>\n",
       "      <td>0</td>\n",
       "      <td>184</td>\n",
       "      <td>0</td>\n",
       "      <td>0</td>\n",
       "      <td>0</td>\n",
       "      <td>0</td>\n",
       "      <td>0</td>\n",
       "      <td>0</td>\n",
       "      <td>0</td>\n",
       "      <td>0</td>\n",
       "    </tr>\n",
       "    <tr>\n",
       "      <th>3</th>\n",
       "      <td>4</td>\n",
       "      <td>0</td>\n",
       "      <td>0</td>\n",
       "      <td>0</td>\n",
       "      <td>0</td>\n",
       "      <td>0</td>\n",
       "      <td>0</td>\n",
       "      <td>0</td>\n",
       "      <td>0</td>\n",
       "      <td>0</td>\n",
       "      <td>...</td>\n",
       "      <td>0</td>\n",
       "      <td>0</td>\n",
       "      <td>94</td>\n",
       "      <td>255</td>\n",
       "      <td>69</td>\n",
       "      <td>0</td>\n",
       "      <td>0</td>\n",
       "      <td>0</td>\n",
       "      <td>0</td>\n",
       "      <td>0</td>\n",
       "    </tr>\n",
       "    <tr>\n",
       "      <th>4</th>\n",
       "      <td>0</td>\n",
       "      <td>0</td>\n",
       "      <td>0</td>\n",
       "      <td>0</td>\n",
       "      <td>155</td>\n",
       "      <td>254</td>\n",
       "      <td>254</td>\n",
       "      <td>254</td>\n",
       "      <td>157</td>\n",
       "      <td>30</td>\n",
       "      <td>...</td>\n",
       "      <td>253</td>\n",
       "      <td>0</td>\n",
       "      <td>0</td>\n",
       "      <td>0</td>\n",
       "      <td>223</td>\n",
       "      <td>253</td>\n",
       "      <td>253</td>\n",
       "      <td>253</td>\n",
       "      <td>129</td>\n",
       "      <td>0</td>\n",
       "    </tr>\n",
       "  </tbody>\n",
       "</table>\n",
       "<p>5 rows × 46 columns</p>\n",
       "</div>"
      ],
      "text/plain": [
       "   label  pixel43  pixel44  pixel92  pixel124  pixel125  pixel126  pixel127   \n",
       "0      1        0        0        0         0         0         0         0  \\\n",
       "1      0        0        0        0       137       137       192        86   \n",
       "2      1        0        0        0         3       141       139         3   \n",
       "3      4        0        0        0         0         0         0         0   \n",
       "4      0        0        0        0       155       254       254       254   \n",
       "\n",
       "   pixel128  pixel129  ...  pixel329  pixel351  pixel410  pixel411  pixel412   \n",
       "0         0         0  ...         0       254         0         0         0  \\\n",
       "1        72         1  ...       254         0         0        75       254   \n",
       "2         0         0  ...         0       184         0         0         0   \n",
       "3         0         0  ...         0         0        94       255        69   \n",
       "4       157        30  ...       253         0         0         0       223   \n",
       "\n",
       "   pixel413  pixel414  pixel415  pixel416  pixel417  \n",
       "0         0         0         0         0         0  \n",
       "1       254       254        17         0         0  \n",
       "2         0         0         0         0         0  \n",
       "3         0         0         0         0         0  \n",
       "4       253       253       253       129         0  \n",
       "\n",
       "[5 rows x 46 columns]"
      ]
     },
     "execution_count": 3,
     "metadata": {},
     "output_type": "execute_result"
    }
   ],
   "source": [
    "# Load the dataset\n",
    "\n",
    "Df = pd.read_csv('letters.csv')\n",
    "Df.head()"
   ]
  },
  {
   "cell_type": "code",
   "execution_count": 4,
   "id": "18559cbd",
   "metadata": {},
   "outputs": [
    {
     "name": "stdout",
     "output_type": "stream",
     "text": [
      "<class 'pandas.core.frame.DataFrame'>\n",
      "RangeIndex: 42000 entries, 0 to 41999\n",
      "Data columns (total 46 columns):\n",
      " #   Column    Non-Null Count  Dtype\n",
      "---  ------    --------------  -----\n",
      " 0   label     42000 non-null  int64\n",
      " 1   pixel43   42000 non-null  int64\n",
      " 2   pixel44   42000 non-null  int64\n",
      " 3   pixel92   42000 non-null  int64\n",
      " 4   pixel124  42000 non-null  int64\n",
      " 5   pixel125  42000 non-null  int64\n",
      " 6   pixel126  42000 non-null  int64\n",
      " 7   pixel127  42000 non-null  int64\n",
      " 8   pixel128  42000 non-null  int64\n",
      " 9   pixel129  42000 non-null  int64\n",
      " 10  pixel130  42000 non-null  int64\n",
      " 11  pixel131  42000 non-null  int64\n",
      " 12  pixel132  42000 non-null  int64\n",
      " 13  pixel133  42000 non-null  int64\n",
      " 14  pixel134  42000 non-null  int64\n",
      " 15  pixel135  42000 non-null  int64\n",
      " 16  pixel136  42000 non-null  int64\n",
      " 17  pixel137  42000 non-null  int64\n",
      " 18  pixel138  42000 non-null  int64\n",
      " 19  pixel146  42000 non-null  int64\n",
      " 20  pixel147  42000 non-null  int64\n",
      " 21  pixel148  42000 non-null  int64\n",
      " 22  pixel149  42000 non-null  int64\n",
      " 23  pixel150  42000 non-null  int64\n",
      " 24  pixel151  42000 non-null  int64\n",
      " 25  pixel152  42000 non-null  int64\n",
      " 26  pixel153  42000 non-null  int64\n",
      " 27  pixel154  42000 non-null  int64\n",
      " 28  pixel155  42000 non-null  int64\n",
      " 29  pixel156  42000 non-null  int64\n",
      " 30  pixel157  42000 non-null  int64\n",
      " 31  pixel158  42000 non-null  int64\n",
      " 32  pixel159  42000 non-null  int64\n",
      " 33  pixel160  42000 non-null  int64\n",
      " 34  pixel327  42000 non-null  int64\n",
      " 35  pixel328  42000 non-null  int64\n",
      " 36  pixel329  42000 non-null  int64\n",
      " 37  pixel351  42000 non-null  int64\n",
      " 38  pixel410  42000 non-null  int64\n",
      " 39  pixel411  42000 non-null  int64\n",
      " 40  pixel412  42000 non-null  int64\n",
      " 41  pixel413  42000 non-null  int64\n",
      " 42  pixel414  42000 non-null  int64\n",
      " 43  pixel415  42000 non-null  int64\n",
      " 44  pixel416  42000 non-null  int64\n",
      " 45  pixel417  42000 non-null  int64\n",
      "dtypes: int64(46)\n",
      "memory usage: 14.7 MB\n"
     ]
    }
   ],
   "source": [
    "Df.info()"
   ]
  },
  {
   "cell_type": "code",
   "execution_count": 5,
   "id": "32d04478",
   "metadata": {},
   "outputs": [
    {
     "name": "stdout",
     "output_type": "stream",
     "text": [
      "No columns have missing data with question marks.\n"
     ]
    }
   ],
   "source": [
    "# Checking for '?' in each variable\n",
    "\n",
    "for column in Df.columns:\n",
    "    if Df[column].dtype in [int, float, object]:\n",
    "        # Check for '?' only in columns with 'object' dtype (strings)\n",
    "        question_mark_count = (Df[column] == '?').sum()\n",
    "        \n",
    "        if question_mark_count > 0:\n",
    "            print(f\"Column '{column}' has {question_mark_count} '?' values.\")\n",
    "            \n",
    "# Flag to check if any columns have missing data\n",
    "missing_data_found = False\n",
    "\n",
    "# Print a message if no columns have missing data\n",
    "if not missing_data_found:\n",
    "    print(\"No columns have missing data with question marks.\")"
   ]
  },
  {
   "cell_type": "code",
   "execution_count": 6,
   "id": "01aa03c2",
   "metadata": {},
   "outputs": [
    {
     "data": {
      "text/plain": [
       "label       0\n",
       "pixel43     0\n",
       "pixel44     0\n",
       "pixel92     0\n",
       "pixel124    0\n",
       "pixel125    0\n",
       "pixel126    0\n",
       "pixel127    0\n",
       "pixel128    0\n",
       "pixel129    0\n",
       "pixel130    0\n",
       "pixel131    0\n",
       "pixel132    0\n",
       "pixel133    0\n",
       "pixel134    0\n",
       "pixel135    0\n",
       "pixel136    0\n",
       "pixel137    0\n",
       "pixel138    0\n",
       "pixel146    0\n",
       "pixel147    0\n",
       "pixel148    0\n",
       "pixel149    0\n",
       "pixel150    0\n",
       "pixel151    0\n",
       "pixel152    0\n",
       "pixel153    0\n",
       "pixel154    0\n",
       "pixel155    0\n",
       "pixel156    0\n",
       "pixel157    0\n",
       "pixel158    0\n",
       "pixel159    0\n",
       "pixel160    0\n",
       "pixel327    0\n",
       "pixel328    0\n",
       "pixel329    0\n",
       "pixel351    0\n",
       "pixel410    0\n",
       "pixel411    0\n",
       "pixel412    0\n",
       "pixel413    0\n",
       "pixel414    0\n",
       "pixel415    0\n",
       "pixel416    0\n",
       "pixel417    0\n",
       "dtype: int64"
      ]
     },
     "execution_count": 6,
     "metadata": {},
     "output_type": "execute_result"
    }
   ],
   "source": [
    "# Checking for nulls\n",
    "\n",
    "Df.isnull().sum()\n"
   ]
  },
  {
   "cell_type": "code",
   "execution_count": null,
   "id": "2b149540",
   "metadata": {},
   "outputs": [],
   "source": []
  },
  {
   "cell_type": "code",
   "execution_count": 7,
   "id": "1712d9ef",
   "metadata": {},
   "outputs": [],
   "source": [
    "# One hot encoding and normalizing\n",
    "# Feature and target selection\n",
    "X = Df.drop(['label'], axis=1)\n",
    "Y = Df['label']\n",
    "\n",
    "# Encoding the categorical features\n",
    "X = pd.get_dummies(X)\n"
   ]
  },
  {
   "cell_type": "code",
   "execution_count": 8,
   "id": "3674054d",
   "metadata": {},
   "outputs": [],
   "source": [
    "# Standardization\n",
    "scaler = StandardScaler()\n",
    "X_normalized = scaler.fit_transform(X)\n"
   ]
  },
  {
   "cell_type": "code",
   "execution_count": 9,
   "id": "3d936ac1",
   "metadata": {},
   "outputs": [],
   "source": [
    "# Converting the normalized array back to a DataFrame\n",
    "X_normalized_df = pd.DataFrame(X_normalized, columns=X.columns)\n",
    "\n",
    "# DATA SPLIT\n",
    "# Assuming 'y' is your target variable and 'X_normalized_df' is your normalized feature DataFrame\n",
    "X_train, X_test, Y_train, Y_test = train_test_split(X_normalized_df, Y, test_size=0.2, random_state=42)\n",
    "\n",
    "# Reset indices to ensure proper alignment\n",
    "X_train.reset_index(drop=True, inplace=True)\n",
    "Y_train.reset_index(drop=True, inplace=True)"
   ]
  },
  {
   "cell_type": "code",
   "execution_count": 10,
   "id": "570d9e55",
   "metadata": {},
   "outputs": [
    {
     "name": "stdout",
     "output_type": "stream",
     "text": [
      "KNN model with K=3 has an accuracy of 0.6226\n",
      "KNN model with K=5 has an accuracy of 0.6454\n",
      "KNN model with K=7 has an accuracy of 0.6549\n",
      "KNN model with K=9 has an accuracy of 0.6564\n",
      "KNN model with K=10 has an accuracy of 0.6555\n"
     ]
    }
   ],
   "source": [
    "# PART 1 KNN Classifier\n",
    "\n",
    "\n",
    "# Assuming you already have X_train, X_test, Y_train, Y_test defined\n",
    "\n",
    "\n",
    "K_val = [3, 5, 7, 9, 10]\n",
    "\n",
    "# Collating results from KNN models\n",
    "knn_results = {'K Value': [], 'Accuracy': []}\n",
    "\n",
    "# Creating and evaluating KNN models for each K value\n",
    "for K in K_val:\n",
    "    # Creating the KNN model\n",
    "    knn_model = KNeighborsClassifier(n_neighbors=K)\n",
    "    \n",
    "    # Training the model\n",
    "    knn_model.fit(X_train, Y_train)\n",
    "    \n",
    "    # Making predictions on the test set\n",
    "    pred_Y_KNN = knn_model.predict(X_test)\n",
    "    \n",
    "    # Evaluating the model\n",
    "    accuracy = accuracy_score(Y_test, pred_Y_KNN)\n",
    "    \n",
    "    # Adding results to the dictionary\n",
    "    knn_results['K Value'].append(K)\n",
    "    knn_results['Accuracy'].append(accuracy)\n",
    "    \n",
    "    # Accuracy\n",
    "    print(f'KNN model with K={K} has an accuracy of {accuracy:.4f}')"
   ]
  },
  {
   "cell_type": "code",
   "execution_count": 11,
   "id": "2ed2c309",
   "metadata": {},
   "outputs": [
    {
     "name": "stdout",
     "output_type": "stream",
     "text": [
      "Precision for KNN: 0.77\n",
      "Recall for KNN: 0.96\n",
      "Classification Report KNN               precision    recall  f1-score   support\n",
      "\n",
      "           0       0.81      0.89      0.85       861\n",
      "           1       0.77      0.96      0.85       971\n",
      "           2       0.66      0.63      0.64       817\n",
      "           3       0.59      0.54      0.56       834\n",
      "           4       0.66      0.51      0.58       802\n",
      "           5       0.65      0.54      0.59       744\n",
      "           6       0.83      0.85      0.84       821\n",
      "           7       0.48      0.61      0.54       914\n",
      "           8       0.61      0.50      0.55       789\n",
      "           9       0.47      0.46      0.46       847\n",
      "\n",
      "    accuracy                           0.66      8400\n",
      "   macro avg       0.65      0.65      0.65      8400\n",
      "weighted avg       0.65      0.66      0.65      8400\n",
      "\n"
     ]
    }
   ],
   "source": [
    "# Classification Report KNN\n",
    "\n",
    "classification_rep_KNN = classification_report(Y_test, pred_Y_KNN)\n",
    "precision_KNN = classification_rep_KNN.split('\\n')[3].split()[1]\n",
    "recall_KNN = classification_rep_KNN.split('\\n')[3].split()[2]\n",
    "\n",
    "print(\"Precision for KNN:\", precision_KNN)\n",
    "print(\"Recall for KNN:\", recall_KNN)\n",
    "print('Classification Report KNN', classification_rep_KNN)\n"
   ]
  },
  {
   "cell_type": "code",
   "execution_count": 12,
   "id": "a04a7887",
   "metadata": {},
   "outputs": [
    {
     "name": "stdout",
     "output_type": "stream",
     "text": [
      "Model with ReLU activation has an accuracy of 0.6805\n"
     ]
    }
   ],
   "source": [
    "# Part 2: Neural Network\n",
    "\n",
    "# 1. Function : RE-LU\n",
    "nn_model_relu = MLPClassifier(hidden_layer_sizes=(20,), \n",
    "                               solver='sgd', \n",
    "                               activation='relu', \n",
    "                               learning_rate_init=0.01, \n",
    "                               max_iter=15000)\n",
    "                              \n",
    "# Model Fitting                              \n",
    "nn_model_relu.fit(X_train, Y_train)\n",
    "                              \n",
    "# Model Prediction \n",
    "y_pred_relu = nn_model_relu.predict(X_test)\n",
    "                              \n",
    "# Accuracy\n",
    "accuracy_relu = accuracy_score(Y_test, y_pred_relu)\n",
    "print(f'Model with ReLU activation has an accuracy of {accuracy_relu:.4f}')\n"
   ]
  },
  {
   "cell_type": "code",
   "execution_count": 13,
   "id": "396e5d6c",
   "metadata": {},
   "outputs": [
    {
     "name": "stdout",
     "output_type": "stream",
     "text": [
      "Model with sigmoid activation has an accuracy of 0.6736\n"
     ]
    }
   ],
   "source": [
    "\n",
    "# 2. Function : sigmoid\n",
    "nn_model_sig = MLPClassifier(hidden_layer_sizes=(20,), \n",
    "                             solver='sgd', \n",
    "                             activation='logistic', \n",
    "                             learning_rate_init=0.01, \n",
    "                             max_iter=15000)\n",
    "# Model Fitting\n",
    "nn_model_sig.fit(X_train, Y_train)\n",
    "\n",
    "\n",
    "# Model Prediction\n",
    "y_pred_sig = nn_model_sig.predict(X_test)\n",
    "\n",
    "# Model accuracy\n",
    "accuracy_sig = accuracy_score(Y_test, y_pred_sig)\n",
    "print(f'Model with sigmoid activation has an accuracy of {accuracy_sig:.4f}')"
   ]
  },
  {
   "cell_type": "code",
   "execution_count": 14,
   "id": "be402543",
   "metadata": {},
   "outputs": [
    {
     "name": "stdout",
     "output_type": "stream",
     "text": [
      "Model with Tanh activation has an accuracy of 0.6774\n"
     ]
    }
   ],
   "source": [
    "\n",
    "# 3. Function : Tanh\n",
    "nn_model_tanh = MLPClassifier(hidden_layer_sizes=(20,), \n",
    "                              solver='sgd', \n",
    "                              activation='tanh', \n",
    "                              learning_rate_init=0.01, \n",
    "                              max_iter=15000)\n",
    "\n",
    "# Model Fitting\n",
    "nn_model_tanh.fit(X_train, Y_train)\n",
    "\n",
    "# Model Prediction\n",
    "y_pred_tanh = nn_model_tanh.predict(X_test)\n",
    "\n",
    "# Model accuracy\n",
    "accuracy_tanh = accuracy_score(Y_test, y_pred_tanh)\n",
    "print(f'Model with Tanh activation has an accuracy of {accuracy_tanh:.4f}')\n"
   ]
  },
  {
   "cell_type": "code",
   "execution_count": 15,
   "id": "9b61e21c",
   "metadata": {},
   "outputs": [
    {
     "name": "stdout",
     "output_type": "stream",
     "text": [
      "Precision for NN: 0.82\n",
      "Recall for NN: 0.94\n",
      "Classification Report NN               precision    recall  f1-score   support\n",
      "\n",
      "           0       0.86      0.87      0.87       861\n",
      "           1       0.82      0.94      0.88       971\n",
      "           2       0.73      0.63      0.68       817\n",
      "           3       0.65      0.58      0.61       834\n",
      "           4       0.69      0.54      0.61       802\n",
      "           5       0.61      0.63      0.62       744\n",
      "           6       0.85      0.88      0.86       821\n",
      "           7       0.48      0.73      0.58       914\n",
      "           8       0.63      0.54      0.58       789\n",
      "           9       0.52      0.38      0.44       847\n",
      "\n",
      "    accuracy                           0.68      8400\n",
      "   macro avg       0.68      0.67      0.67      8400\n",
      "weighted avg       0.68      0.68      0.68      8400\n",
      "\n"
     ]
    }
   ],
   "source": [
    "# Neural network classification\n",
    "\n",
    "classification_NN = classification_report(Y_test, y_pred_relu)\n",
    "precision_NN = classification_NN.split('\\n')[3].split()[1]\n",
    "recall_NN = classification_NN.split('\\n')[3].split()[2]\n",
    "\n",
    "print(\"Precision for NN:\", precision_NN)\n",
    "print(\"Recall for NN:\", recall_NN)\n",
    "print('Classification Report NN', classification_NN)"
   ]
  },
  {
   "cell_type": "code",
   "execution_count": 16,
   "id": "bdb66c61",
   "metadata": {},
   "outputs": [
    {
     "name": "stdout",
     "output_type": "stream",
     "text": [
      "Table 1: Neural Network\n",
      "  Neural Network Function  Accuracy\n",
      "0                    ReLU  0.680476\n",
      "1                 Sigmoid  0.673571\n",
      "2                    Tanh  0.677381\n"
     ]
    }
   ],
   "source": [
    "# PART 3 MODEL COMPARISON\n",
    "\n",
    "# Collating results from models\n",
    "results = {\n",
    "    'Neural Network Function': ['ReLU', 'Sigmoid', 'Tanh'],\n",
    "    'Accuracy': [accuracy_relu, accuracy_sig, accuracy_tanh]  # Add a placeholder for Tanh\n",
    "}\n",
    "\n",
    "results_df = pd.DataFrame(results)\n",
    "\n",
    "print(\"Table 1: Neural Network\")\n",
    "print(results_df)\n"
   ]
  },
  {
   "cell_type": "code",
   "execution_count": null,
   "id": "4520c039",
   "metadata": {},
   "outputs": [],
   "source": []
  },
  {
   "cell_type": "code",
   "execution_count": 17,
   "id": "c84f8658",
   "metadata": {},
   "outputs": [
    {
     "name": "stdout",
     "output_type": "stream",
     "text": [
      "Table 2: KNN Results\n",
      "   K Value  Accuracy\n",
      "0        3  0.622619\n",
      "1        5  0.645357\n",
      "2        7  0.654881\n",
      "3        9  0.656429\n",
      "4       10  0.655476\n"
     ]
    }
   ],
   "source": [
    "# Creating DataFrame from KNN results\n",
    "knn_results_df = pd.DataFrame(knn_results)\n",
    "\n",
    "print(\"Table 2: KNN Results\")\n",
    "print(knn_results_df)\n"
   ]
  },
  {
   "cell_type": "code",
   "execution_count": 18,
   "id": "1a1acf68",
   "metadata": {},
   "outputs": [
    {
     "name": "stdout",
     "output_type": "stream",
     "text": [
      "Training Time (Neural Network): 46.88 seconds\n",
      "Training Time (KNN): 0.03 seconds\n"
     ]
    }
   ],
   "source": [
    "# Model Comparison : Training Speed \n",
    "\n",
    "# Measure training time for Neural Network\n",
    "start_time_relu = time.time()\n",
    "nn_model_relu.fit(X_train, Y_train)\n",
    "training_time_relu = time.time() - start_time_relu\n",
    "print(f\"Training Time (Neural Network): {training_time_relu:.2f} seconds\")\n",
    "\n",
    "# Measure training time KNN\n",
    "start_time_knn = time.time()\n",
    "knn_model.fit(X_train, Y_train)\n",
    "training_time_knn = time.time() - start_time_knn\n",
    "print(f\"Training Time (KNN): {training_time_knn:.2f} seconds\")\n",
    "\n"
   ]
  },
  {
   "cell_type": "code",
   "execution_count": 19,
   "id": "5ee333d9",
   "metadata": {},
   "outputs": [
    {
     "name": "stdout",
     "output_type": "stream",
     "text": [
      "Precision KNN: 0.77\n",
      "Recall KNN: 0.96\n",
      "Precision Neural Network: 0.82\n",
      "Recall Neural Network: 0.94\n"
     ]
    }
   ],
   "source": [
    "# Precision and Recall KNN \n",
    "classification_rep_KNN = classification_report(Y_test, pred_Y_KNN)\n",
    "precision_KNN = classification_rep_KNN.split('\\n')[3].split()[1]\n",
    "recall_KNN = classification_rep_KNN.split('\\n')[3].split()[2]\n",
    "print(\"Precision KNN:\", precision_KNN)\n",
    "print(\"Recall KNN:\", recall_KNN)\n",
    "\n",
    "\n",
    "# Precision and Recall Neural Network\n",
    "classification_rep_NN = classification_report(Y_test, y_pred_relu)\n",
    "precision_NN = classification_rep_NN.split('\\n')[3].split()[1]\n",
    "recall_NN = classification_rep_NN.split('\\n')[3].split()[2]\n",
    "print(\"Precision Neural Network:\", precision_NN)\n",
    "print(\"Recall Neural Network:\", recall_NN)"
   ]
  },
  {
   "cell_type": "code",
   "execution_count": null,
   "id": "f57369c1",
   "metadata": {},
   "outputs": [],
   "source": []
  },
  {
   "cell_type": "code",
   "execution_count": null,
   "id": "4ff0ef62",
   "metadata": {},
   "outputs": [],
   "source": []
  },
  {
   "cell_type": "code",
   "execution_count": null,
   "id": "e5302f0c",
   "metadata": {},
   "outputs": [],
   "source": []
  }
 ],
 "metadata": {
  "kernelspec": {
   "display_name": "Python 3 (ipykernel)",
   "language": "python",
   "name": "python3"
  },
  "language_info": {
   "codemirror_mode": {
    "name": "ipython",
    "version": 3
   },
   "file_extension": ".py",
   "mimetype": "text/x-python",
   "name": "python",
   "nbconvert_exporter": "python",
   "pygments_lexer": "ipython3",
   "version": "3.11.7"
  }
 },
 "nbformat": 4,
 "nbformat_minor": 5
}
